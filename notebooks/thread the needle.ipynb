{
 "cells": [
  {
   "cell_type": "code",
   "execution_count": null,
   "metadata": {},
   "outputs": [],
   "source": [
    "%load_ext autoreload\n",
    "%autoreload 2\n",
    "%matplotlib inline\n",
    "\n",
    "import thread_the_needle as ttn\n",
    "\n",
    "\n",
    "from vi_ppo.actor_critic import ActorCritic\n",
    "from vi_ppo.nets.mlp import Mlp\n",
    "from vi_ppo.nets.cnn import Cnn\n",
    "from vi_ppo.modules import ThreadTheNeedleModule\n",
    "import lightning as pl\n",
    "from pytorch_lightning.loggers import TensorBoardLogger\n",
    "import numpy as np\n",
    "import matplotlib.pyplot as plt"
   ]
  },
  {
   "cell_type": "code",
   "execution_count": null,
   "metadata": {},
   "outputs": [],
   "source": [
    "# Initialise the environment\n",
    "env = ttn.make(\"thread_the_needle\")\n",
    "\n",
    "# make the actor critic model\n",
    "d = env.observation_space.shape\n",
    "n_a = env.action_space.n\n",
    "hidden_dims = 16\n",
    "\n",
    "\n",
    "print(\"Observation space: \", d) \n",
    "print(\"Action space: \", n_a)"
   ]
  },
  {
   "cell_type": "code",
   "execution_count": null,
   "metadata": {},
   "outputs": [],
   "source": [
    "plt.imshow(env.state_values[:-1].reshape(20,20))"
   ]
  },
  {
   "cell_type": "code",
   "execution_count": null,
   "metadata": {},
   "outputs": [],
   "source": [
    "env.reset()\n",
    "env.step(0)"
   ]
  },
  {
   "cell_type": "code",
   "execution_count": null,
   "metadata": {},
   "outputs": [],
   "source": [
    "feature_extractor_config = Cnn.config_cls(\n",
    "    input_channels=1, \n",
    "    channels=[8,16,1], \n",
    "    kernel_sizes=[8,4,1], \n",
    "    strides=[2,2,1], \n",
    "    padding=[0,0,0],\n",
    "    flatten_output=True,\n",
    "    activation=\"silu\",\n",
    "    )\n",
    "# feature_extractor_config = Cnn.config_cls(\n",
    "#     input_channels=1, \n",
    "#     channels=[32,32,64,1], \n",
    "#     kernel_sizes=[8,4,3,1], \n",
    "#     strides=[4,2,1,1], \n",
    "#     padding=[1,1,1,1],\n",
    "#     flatten_output=True,\n",
    "#     activation=\"elu\",\n",
    "#     )\n",
    "Cnn(feature_extractor_config).calculate_output_shape(input_shape=(1,64,64))"
   ]
  },
  {
   "cell_type": "code",
   "execution_count": null,
   "metadata": {},
   "outputs": [],
   "source": []
  },
  {
   "cell_type": "code",
   "execution_count": null,
   "metadata": {},
   "outputs": [],
   "source": [
    "\n",
    "feature_extractor = Cnn(feature_extractor_config)\n",
    "\n",
    "embedding_dims = feature_extractor.calculate_output_shape(input_shape=(1,64,64))[1]\n",
    "\n",
    "\n",
    "actor_config = Mlp.config_cls(\n",
    "    input_dims=embedding_dims, \n",
    "    output_dims=n_a, \n",
    "    hidden_dims=hidden_dims,\n",
    "    n_layers=1, \n",
    "    activation=\"silu\",\n",
    ")\n",
    "critic_config = Mlp.config_cls(\n",
    "    input_dims=embedding_dims, \n",
    "    output_dims=1, \n",
    "    hidden_dims=hidden_dims, \n",
    "    n_layers=1, \n",
    "    activation=\"silu\",\n",
    ")\n",
    "ac_config = ActorCritic.config_cls(\n",
    "    clip_epsilon=0.2, \n",
    "    value_coeff=0.5, \n",
    "    entropy_coeff=0.01\n",
    ")\n",
    "\n",
    "model = ActorCritic(\n",
    "    ac_config, \n",
    "    actor_net=Mlp(actor_config), \n",
    "    critic=Mlp(critic_config), \n",
    "    feature_extractor=feature_extractor\n",
    "    )\n",
    "\n",
    "\n",
    "# module"
   ]
  },
  {
   "cell_type": "code",
   "execution_count": null,
   "metadata": {},
   "outputs": [],
   "source": [
    "\n",
    "config = ThreadTheNeedleModule.config_class(lr=3e-4)\n",
    "module = ThreadTheNeedleModule(actor_critic=model, env=env, config=config)\n",
    "\n",
    "logger = TensorBoardLogger(\"../lightning_logs\", name=\"thread_the_needle_test\")\n",
    "trainer = pl.Trainer(max_epochs=10, logger=logger)\n",
    "\n",
    "trainer.fit(module)"
   ]
  },
  {
   "cell_type": "code",
   "execution_count": null,
   "metadata": {},
   "outputs": [],
   "source": []
  },
  {
   "cell_type": "code",
   "execution_count": null,
   "metadata": {},
   "outputs": [],
   "source": [
    "from vi_ppo.utils.plotting import visualize_rollout\n",
    "visualize_rollout(env, module.buffer)"
   ]
  },
  {
   "cell_type": "code",
   "execution_count": null,
   "metadata": {},
   "outputs": [],
   "source": [
    "np.sum(module.buffer.terminated)"
   ]
  },
  {
   "cell_type": "code",
   "execution_count": null,
   "metadata": {},
   "outputs": [],
   "source": [
    "np.sum(module.buffer.truncated)"
   ]
  },
  {
   "cell_type": "code",
   "execution_count": null,
   "metadata": {},
   "outputs": [],
   "source": [
    "np.sum(module.buffer.rewards)"
   ]
  },
  {
   "cell_type": "code",
   "execution_count": null,
   "metadata": {},
   "outputs": [],
   "source": [
    "env.end_state"
   ]
  },
  {
   "cell_type": "code",
   "execution_count": null,
   "metadata": {},
   "outputs": [],
   "source": []
  }
 ],
 "metadata": {
  "kernelspec": {
   "display_name": "vi_ppo",
   "language": "python",
   "name": "python3"
  },
  "language_info": {
   "codemirror_mode": {
    "name": "ipython",
    "version": 3
   },
   "file_extension": ".py",
   "mimetype": "text/x-python",
   "name": "python",
   "nbconvert_exporter": "python",
   "pygments_lexer": "ipython3",
   "version": "3.10.13"
  }
 },
 "nbformat": 4,
 "nbformat_minor": 2
}
