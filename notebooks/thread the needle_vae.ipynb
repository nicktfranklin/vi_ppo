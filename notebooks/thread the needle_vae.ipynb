{
 "cells": [
  {
   "cell_type": "code",
   "execution_count": 1,
   "metadata": {},
   "outputs": [],
   "source": [
    "%load_ext autoreload\n",
    "%autoreload 2\n",
    "%matplotlib inline\n",
    "\n",
    "import thread_the_needle as ttn\n",
    "\n",
    "\n",
    "from vi_ppo.actor_critic import ActorCritic\n",
    "from vi_ppo.nets.mlp import Mlp\n",
    "from vi_ppo.nets.cnn import Cnn\n",
    "from vi_ppo.modules import ThreadTheNeedleModule\n",
    "from vi_ppo.vae import Vae\n",
    "import lightning as pl\n",
    "from pytorch_lightning.loggers import TensorBoardLogger\n",
    "import numpy as np\n",
    "import matplotlib.pyplot as plt\n",
    "import torch.nn as nn"
   ]
  },
  {
   "cell_type": "code",
   "execution_count": 2,
   "metadata": {},
   "outputs": [
    {
     "name": "stdout",
     "output_type": "stream",
     "text": [
      "Observation space:  (1, 64, 64)\n",
      "Action space:  4\n"
     ]
    }
   ],
   "source": [
    "# Initialise the environment\n",
    "env = ttn.make(\"thread_the_needle\")\n",
    "\n",
    "# make the actor critic model\n",
    "d = env.observation_space.shape\n",
    "n_a = env.action_space.n\n",
    "hidden_dims = 32\n",
    "\n",
    "\n",
    "print(\"Observation space: \", d) \n",
    "print(\"Action space: \", n_a)"
   ]
  },
  {
   "cell_type": "code",
   "execution_count": 3,
   "metadata": {},
   "outputs": [
    {
     "data": {
      "text/plain": [
       "<matplotlib.image.AxesImage at 0x148043730>"
      ]
     },
     "execution_count": 3,
     "metadata": {},
     "output_type": "execute_result"
    },
    {
     "data": {
      "image/png": "[encoded data removed]",
      "text/plain": [
       "<Figure size 640x480 with 1 Axes>"
      ]
     },
     "metadata": {},
     "output_type": "display_data"
    }
   ],
   "source": [
    "plt.imshow(env.state_values[:-1].reshape(20,20))"
   ]
  },
  {
   "cell_type": "code",
   "execution_count": 4,
   "metadata": {},
   "outputs": [
    {
     "data": {
      "text/plain": [
       "(array([[[16, 18, 20, ...,  2,  1,  1],\n",
       "         [17, 19, 21, ...,  2,  2,  1],\n",
       "         [17, 19, 21, ...,  2,  2,  1],\n",
       "         ...,\n",
       "         [ 0,  0,  1, ...,  5,  4,  3],\n",
       "         [ 0,  0,  0, ...,  4,  4,  3],\n",
       "         [ 0,  0,  0, ...,  4,  3,  3]]], shape=(1, 64, 64)),\n",
       " -0.1,\n",
       " False,\n",
       " False,\n",
       " {'start_state': 128,\n",
       "  'successor_state': 108,\n",
       "  'state_values': 4.963959290430148})"
      ]
     },
     "execution_count": 4,
     "metadata": {},
     "output_type": "execute_result"
    }
   ],
   "source": [
    "env.reset()\n",
    "env.step(0)"
   ]
  },
  {
   "cell_type": "code",
   "execution_count": null,
   "metadata": {},
   "outputs": [
    {
     "name": "stdout",
     "output_type": "stream",
     "text": [
      "Number of embeddind dimensions: 169\n"
     ]
    },
    {
     "ename": "TypeError",
     "evalue": "ActorCriticConfig.__init__() got an unexpected keyword argument 'vae_loss_coeff'",
     "output_type": "error",
     "traceback": [
      "\u001b[0;31m---------------------------------------------------------------------------\u001b[0m",
      "\u001b[0;31mTypeError\u001b[0m                                 Traceback (most recent call last)",
      "Cell \u001b[0;32mIn[5], line 65\u001b[0m\n\u001b[1;32m     53\u001b[0m actor_config \u001b[38;5;241m=\u001b[39m Mlp\u001b[38;5;241m.\u001b[39mconfig_cls(\n\u001b[1;32m     54\u001b[0m     input_dims\u001b[38;5;241m=\u001b[39membedding_dims, \n\u001b[1;32m     55\u001b[0m     output_dims\u001b[38;5;241m=\u001b[39mn_a, \n\u001b[1;32m     56\u001b[0m     hidden_dims\u001b[38;5;241m=\u001b[39mhidden_dims,\n\u001b[1;32m     57\u001b[0m     n_layers\u001b[38;5;241m=\u001b[39m\u001b[38;5;241m1\u001b[39m, \n\u001b[1;32m     58\u001b[0m )\n\u001b[1;32m     59\u001b[0m critic_config \u001b[38;5;241m=\u001b[39m Mlp\u001b[38;5;241m.\u001b[39mconfig_cls(\n\u001b[1;32m     60\u001b[0m     input_dims\u001b[38;5;241m=\u001b[39membedding_dims, \n\u001b[1;32m     61\u001b[0m     output_dims\u001b[38;5;241m=\u001b[39m\u001b[38;5;241m1\u001b[39m, \n\u001b[1;32m     62\u001b[0m     hidden_dims\u001b[38;5;241m=\u001b[39mhidden_dims, \n\u001b[1;32m     63\u001b[0m     n_layers\u001b[38;5;241m=\u001b[39m\u001b[38;5;241m1\u001b[39m, \n\u001b[1;32m     64\u001b[0m )\n\u001b[0;32m---> 65\u001b[0m ac_config \u001b[38;5;241m=\u001b[39m \u001b[43mActorCritic\u001b[49m\u001b[38;5;241;43m.\u001b[39;49m\u001b[43mconfig_cls\u001b[49m\u001b[43m(\u001b[49m\n\u001b[1;32m     66\u001b[0m \u001b[43m    \u001b[49m\u001b[43mclip_epsilon\u001b[49m\u001b[38;5;241;43m=\u001b[39;49m\u001b[38;5;241;43m0.2\u001b[39;49m\u001b[43m,\u001b[49m\u001b[43m \u001b[49m\n\u001b[1;32m     67\u001b[0m \u001b[43m    \u001b[49m\u001b[43mvalue_coeff\u001b[49m\u001b[38;5;241;43m=\u001b[39;49m\u001b[38;5;241;43m0.5\u001b[39;49m\u001b[43m,\u001b[49m\u001b[43m \u001b[49m\n\u001b[1;32m     68\u001b[0m \u001b[43m    \u001b[49m\u001b[43mentropy_coeff\u001b[49m\u001b[38;5;241;43m=\u001b[39;49m\u001b[38;5;241;43m0.01\u001b[39;49m\u001b[43m,\u001b[49m\n\u001b[1;32m     69\u001b[0m \u001b[43m    \u001b[49m\u001b[43mvae_loss_coeff\u001b[49m\u001b[38;5;241;43m=\u001b[39;49m\u001b[38;5;241;43m1\u001b[39;49m\u001b[43m,\u001b[49m\n\u001b[1;32m     70\u001b[0m \u001b[43m)\u001b[49m\n\u001b[1;32m     72\u001b[0m model \u001b[38;5;241m=\u001b[39m ActorCritic(\n\u001b[1;32m     73\u001b[0m     ac_config, \n\u001b[1;32m     74\u001b[0m     actor_net\u001b[38;5;241m=\u001b[39mMlp(actor_config), \n\u001b[0;32m   (...)\u001b[0m\n\u001b[1;32m     79\u001b[0m     transition_network\u001b[38;5;241m=\u001b[39mtransition_network,\n\u001b[1;32m     80\u001b[0m     )\n\u001b[1;32m     83\u001b[0m \u001b[38;5;66;03m# module\u001b[39;00m\n\u001b[1;32m     84\u001b[0m \u001b[38;5;66;03m# print(model)\u001b[39;00m\n",
      "\u001b[0;31mTypeError\u001b[0m: ActorCriticConfig.__init__() got an unexpected keyword argument 'vae_loss_coeff'"
     ]
    }
   ],
   "source": [
    "# Use a CNN to extract features from the image\n",
    "feature_extractor_config = Cnn.config_cls(\n",
    "    input_channels=1, \n",
    "    channels=[8,16,1], \n",
    "    kernel_sizes=[8,4,1], \n",
    "    strides=[2,2,1], \n",
    "    padding=[0,0,0],\n",
    "    flatten_output=True,\n",
    "    activation=\"silu\",\n",
    "    )\n",
    "feature_extractor = Cnn(feature_extractor_config)\n",
    "embedding_dims = feature_extractor.calculate_output_shape(input_shape=(1,64,64))[1]\n",
    "print(f\"Number of embeddind dimensions: {embedding_dims}\")\n",
    "\n",
    "# Construct the state inference model\n",
    "z_dim = 2\n",
    "encoder_config = Mlp.config_cls(\n",
    "    input_dims=embedding_dims, \n",
    "    output_dims=z_dim * 2, \n",
    "    hidden_dims=embedding_dims, \n",
    "    n_layers=3, \n",
    "    )\n",
    "decoder_config = Mlp.config_cls(\n",
    "    input_dims=z_dim, \n",
    "    output_dims=embedding_dims, \n",
    "    hidden_dims=embedding_dims, \n",
    "    n_layers=3, \n",
    "    )\n",
    "\n",
    "vae_config  = Vae.config_cls(\n",
    "    z_dim=z_dim, \n",
    "    sigma=1e-4, \n",
    "    beta=1.,\n",
    "    )\n",
    "vae = Vae(\n",
    "    vae_config,\n",
    "    encoder=Mlp(encoder_config), \n",
    "    decoder=Mlp(decoder_config)\n",
    "    )\n",
    "\n",
    "action_embeddings = nn.Embedding(n_a, z_dim)\n",
    "\n",
    "transition_network = Mlp(\n",
    "    Mlp.config_cls(\n",
    "        input_dims=z_dim * 2, \n",
    "        output_dims=z_dim + 1, \n",
    "        hidden_dims=z_dim, \n",
    "        n_layers=1\n",
    "    )\n",
    ")\n",
    "\n",
    "\n",
    "actor_config = Mlp.config_cls(\n",
    "    input_dims=embedding_dims, \n",
    "    output_dims=n_a, \n",
    "    hidden_dims=hidden_dims,\n",
    "    n_layers=1, \n",
    ")\n",
    "critic_config = Mlp.config_cls(\n",
    "    input_dims=embedding_dims, \n",
    "    output_dims=1, \n",
    "    hidden_dims=hidden_dims, \n",
    "    n_layers=1, \n",
    ")\n",
    "ac_config = ActorCritic.config_cls(\n",
    "    clip_epsilon=0.2, \n",
    "    value_coeff=0.5, \n",
    "    entropy_coeff=0.01,\n",
    ")\n",
    "\n",
    "model = ActorCritic(\n",
    "    ac_config, \n",
    "    actor_net=Mlp(actor_config), \n",
    "    critic=Mlp(critic_config), \n",
    "    feature_extractor=feature_extractor,\n",
    "    state_vae = vae,\n",
    "    action_embeddings=action_embeddings,\n",
    "    transition_network=transition_network,\n",
    "    )\n",
    "\n",
    "\n",
    "# module\n",
    "# print(model)"
   ]
  },
  {
   "cell_type": "code",
   "execution_count": null,
   "metadata": {},
   "outputs": [],
   "source": [
    "\n",
    "config = ThreadTheNeedleModule.config_class(lr=3e-4)\n",
    "module = ThreadTheNeedleModule(actor_critic=model, env=env, config=config)\n",
    "\n",
    "logger = TensorBoardLogger(\"../lightning_logs\", name=\"thread_the_needle/notebook/vae\")\n",
    "trainer = pl.Trainer(max_epochs=20, logger=logger)\n",
    "\n",
    "trainer.fit(module)"
   ]
  },
  {
   "cell_type": "code",
   "execution_count": null,
   "metadata": {},
   "outputs": [],
   "source": [
    "from vi_ppo.utils.plotting import visualize_rollout\n",
    "visualize_rollout(env, module.buffer)"
   ]
  },
  {
   "cell_type": "code",
   "execution_count": null,
   "metadata": {},
   "outputs": [],
   "source": [
    "np.sum(module.buffer.terminated)"
   ]
  },
  {
   "cell_type": "code",
   "execution_count": null,
   "metadata": {},
   "outputs": [],
   "source": [
    "np.sum(module.buffer.truncated)"
   ]
  },
  {
   "cell_type": "code",
   "execution_count": null,
   "metadata": {},
   "outputs": [],
   "source": [
    "np.sum(module.buffer.rewards)"
   ]
  },
  {
   "cell_type": "code",
   "execution_count": null,
   "metadata": {},
   "outputs": [],
   "source": [
    "env.end_state"
   ]
  },
  {
   "cell_type": "code",
   "execution_count": null,
   "metadata": {},
   "outputs": [],
   "source": [
    "from vi_ppo.utils.vae import estimate_graph_laplacian\n",
    "laplacian = estimate_graph_laplacian(module.actor_critic, module.buffer, normalized=False)\n",
    "plt.imshow(laplacian)"
   ]
  },
  {
   "cell_type": "code",
   "execution_count": null,
   "metadata": {},
   "outputs": [],
   "source": [
    "laplacian.sum(axis=1).sum()"
   ]
  },
  {
   "cell_type": "code",
   "execution_count": null,
   "metadata": {},
   "outputs": [],
   "source": [
    "import networkx as nx\n",
    "\n",
    "# convert the laplacian into a graph\n",
    "laplacian = estimate_graph_laplacian(module.actor_critic, module.buffer, normalized=True)\n",
    "\n",
    "edges = np.argwhere(laplacian.numpy())\n",
    "edges = [(i, j) for i, j in edges if i != j]  # remove self-edges\n",
    "\n",
    "G = nx.Graph()\n",
    "G.add_edges_from(edges)\n",
    "nx.draw_networkx(G, with_labels=False, node_size=5)"
   ]
  },
  {
   "cell_type": "code",
   "execution_count": null,
   "metadata": {},
   "outputs": [],
   "source": []
  }
 ],
 "metadata": {
  "kernelspec": {
   "display_name": "vi_ppo",
   "language": "python",
   "name": "python3"
  },
  "language_info": {
   "codemirror_mode": {
    "name": "ipython",
    "version": 3
   },
   "file_extension": ".py",
   "mimetype": "text/x-python",
   "name": "python",
   "nbconvert_exporter": "python",
   "pygments_lexer": "ipython3",
   "version": "3.10.13"
  }
 },
 "nbformat": 4,
 "nbformat_minor": 2
}
