{
 "cells": [
  {
   "cell_type": "code",
   "execution_count": 1,
   "metadata": {},
   "outputs": [],
   "source": [
    "%load_ext autoreload\n",
    "%autoreload 2\n",
    "\n",
    "import thread_the_needle as ttn\n",
    "\n",
    "\n",
    "from src.actor_critic import ActorCritic\n",
    "from src.nets.mlp import Mlp\n",
    "from src.rl_module import RlModule\n",
    "import lightning as pl\n",
    "from pytorch_lightning.loggers import TensorBoardLogger\n"
   ]
  },
  {
   "cell_type": "code",
   "execution_count": 10,
   "metadata": {},
   "outputs": [
    {
     "name": "stdout",
     "output_type": "stream",
     "text": [
      "Observation space:  (64, 64)\n",
      "Action space:  4\n"
     ]
    }
   ],
   "source": [
    "# Initialise the environment\n",
    "env = ttn.make(\"thread_the_needle\")\n",
    "\n",
    "# make the actor critic model\n",
    "d = env.observation_space.shape\n",
    "n_a = env.action_space.n\n",
    "hidden_dims = 16\n",
    "\n",
    "\n",
    "print(\"Observation space: \", d) \n",
    "print(\"Action space: \", n_a)"
   ]
  },
  {
   "cell_type": "code",
   "execution_count": null,
   "metadata": {},
   "outputs": [
    {
     "ename": "TypeError",
     "evalue": "empty(): argument 'size' failed to unpack the object at pos 2 with error \"type must be tuple of ints,but got Box\"",
     "output_type": "error",
     "traceback": [
      "\u001b[0;31m---------------------------------------------------------------------------\u001b[0m",
      "\u001b[0;31mTypeError\u001b[0m                                 Traceback (most recent call last)",
      "Cell \u001b[0;32mIn[5], line 39\u001b[0m\n\u001b[1;32m     24\u001b[0m critic_config \u001b[38;5;241m=\u001b[39m Mlp\u001b[38;5;241m.\u001b[39mconfig_cls(\n\u001b[1;32m     25\u001b[0m     input_dims\u001b[38;5;241m=\u001b[39md, \n\u001b[1;32m     26\u001b[0m     output_dims\u001b[38;5;241m=\u001b[39m\u001b[38;5;241m1\u001b[39m, \n\u001b[0;32m   (...)\u001b[0m\n\u001b[1;32m     29\u001b[0m     activation\u001b[38;5;241m=\u001b[39m\u001b[38;5;124m\"\u001b[39m\u001b[38;5;124msilu\u001b[39m\u001b[38;5;124m\"\u001b[39m,\n\u001b[1;32m     30\u001b[0m )\n\u001b[1;32m     31\u001b[0m ac_config \u001b[38;5;241m=\u001b[39m ActorCritic\u001b[38;5;241m.\u001b[39mconfig_cls(\n\u001b[1;32m     32\u001b[0m     clip_epsilon\u001b[38;5;241m=\u001b[39m\u001b[38;5;241m0.2\u001b[39m, \n\u001b[1;32m     33\u001b[0m     value_coeff\u001b[38;5;241m=\u001b[39m\u001b[38;5;241m0.5\u001b[39m, \n\u001b[1;32m     34\u001b[0m     entropy_coeff\u001b[38;5;241m=\u001b[39m\u001b[38;5;241m0.01\u001b[39m\n\u001b[1;32m     35\u001b[0m )\n\u001b[1;32m     37\u001b[0m model \u001b[38;5;241m=\u001b[39m ActorCritic(\n\u001b[1;32m     38\u001b[0m     ac_config, \n\u001b[0;32m---> 39\u001b[0m     actor_net\u001b[38;5;241m=\u001b[39m\u001b[43mMlp\u001b[49m\u001b[43m(\u001b[49m\u001b[43mactor_config\u001b[49m\u001b[43m)\u001b[49m, \n\u001b[1;32m     40\u001b[0m     critic\u001b[38;5;241m=\u001b[39mMlp(critic_config), \n\u001b[1;32m     41\u001b[0m     \u001b[38;5;66;03m# feature_extractor=Mlp(feature_config)\u001b[39;00m\n\u001b[1;32m     42\u001b[0m     )\n\u001b[1;32m     45\u001b[0m config \u001b[38;5;241m=\u001b[39m RlModule\u001b[38;5;241m.\u001b[39mconfig_class(lr\u001b[38;5;241m=\u001b[39m\u001b[38;5;241m3e-4\u001b[39m)\n\u001b[1;32m     46\u001b[0m module \u001b[38;5;241m=\u001b[39m RlModule(actor_critic\u001b[38;5;241m=\u001b[39mmodel, env\u001b[38;5;241m=\u001b[39menv, config\u001b[38;5;241m=\u001b[39mconfig)\n",
      "File \u001b[0;32m~/Projects/vi_ppo/src/nets/mlp.py:22\u001b[0m, in \u001b[0;36mMlp.__init__\u001b[0;34m(self, config)\u001b[0m\n\u001b[1;32m     19\u001b[0m \u001b[38;5;28;01mdef\u001b[39;00m\u001b[38;5;250m \u001b[39m\u001b[38;5;21m__init__\u001b[39m(\u001b[38;5;28mself\u001b[39m, config: MlpConfig):\n\u001b[1;32m     20\u001b[0m     \u001b[38;5;28msuper\u001b[39m()\u001b[38;5;241m.\u001b[39m\u001b[38;5;21m__init__\u001b[39m()\n\u001b[1;32m     21\u001b[0m     \u001b[38;5;28mself\u001b[39m\u001b[38;5;241m.\u001b[39minput_projection \u001b[38;5;241m=\u001b[39m (\n\u001b[0;32m---> 22\u001b[0m         \u001b[43mnn\u001b[49m\u001b[38;5;241;43m.\u001b[39;49m\u001b[43mLinear\u001b[49m\u001b[43m(\u001b[49m\u001b[43mconfig\u001b[49m\u001b[38;5;241;43m.\u001b[39;49m\u001b[43minput_dims\u001b[49m\u001b[43m,\u001b[49m\u001b[43m \u001b[49m\u001b[43mconfig\u001b[49m\u001b[38;5;241;43m.\u001b[39;49m\u001b[43mhidden_dims\u001b[49m\u001b[43m)\u001b[49m\n\u001b[1;32m     23\u001b[0m         \u001b[38;5;28;01mif\u001b[39;00m (config\u001b[38;5;241m.\u001b[39minput_dims \u001b[38;5;241m!=\u001b[39m config\u001b[38;5;241m.\u001b[39mhidden_dims)\n\u001b[1;32m     24\u001b[0m         \u001b[38;5;28;01melse\u001b[39;00m nn\u001b[38;5;241m.\u001b[39mIdentity()\n\u001b[1;32m     25\u001b[0m     )\n\u001b[1;32m     26\u001b[0m     \u001b[38;5;28mself\u001b[39m\u001b[38;5;241m.\u001b[39moutput_projection \u001b[38;5;241m=\u001b[39m (\n\u001b[1;32m     27\u001b[0m         nn\u001b[38;5;241m.\u001b[39mLinear(config\u001b[38;5;241m.\u001b[39mhidden_dims, config\u001b[38;5;241m.\u001b[39moutput_dims)\n\u001b[1;32m     28\u001b[0m         \u001b[38;5;28;01mif\u001b[39;00m (config\u001b[38;5;241m.\u001b[39mhidden_dims \u001b[38;5;241m!=\u001b[39m config\u001b[38;5;241m.\u001b[39moutput_dims)\n\u001b[1;32m     29\u001b[0m         \u001b[38;5;28;01melse\u001b[39;00m nn\u001b[38;5;241m.\u001b[39mIdentity()\n\u001b[1;32m     30\u001b[0m     )\n\u001b[1;32m     32\u001b[0m     \u001b[38;5;28mself\u001b[39m\u001b[38;5;241m.\u001b[39mhidden_layers \u001b[38;5;241m=\u001b[39m nn\u001b[38;5;241m.\u001b[39mModuleList(\n\u001b[1;32m     33\u001b[0m         [\n\u001b[1;32m     34\u001b[0m             nn\u001b[38;5;241m.\u001b[39mLinear(config\u001b[38;5;241m.\u001b[39mhidden_dims, config\u001b[38;5;241m.\u001b[39mhidden_dims)\n\u001b[1;32m     35\u001b[0m             \u001b[38;5;28;01mfor\u001b[39;00m _ \u001b[38;5;129;01min\u001b[39;00m \u001b[38;5;28mrange\u001b[39m(config\u001b[38;5;241m.\u001b[39mn_layers)\n\u001b[1;32m     36\u001b[0m         ]\n\u001b[1;32m     37\u001b[0m     )\n",
      "File \u001b[0;32m~/miniconda3/envs/vi_ppo/lib/python3.10/site-packages/torch/nn/modules/linear.py:106\u001b[0m, in \u001b[0;36mLinear.__init__\u001b[0;34m(self, in_features, out_features, bias, device, dtype)\u001b[0m\n\u001b[1;32m    103\u001b[0m \u001b[38;5;28mself\u001b[39m\u001b[38;5;241m.\u001b[39min_features \u001b[38;5;241m=\u001b[39m in_features\n\u001b[1;32m    104\u001b[0m \u001b[38;5;28mself\u001b[39m\u001b[38;5;241m.\u001b[39mout_features \u001b[38;5;241m=\u001b[39m out_features\n\u001b[1;32m    105\u001b[0m \u001b[38;5;28mself\u001b[39m\u001b[38;5;241m.\u001b[39mweight \u001b[38;5;241m=\u001b[39m Parameter(\n\u001b[0;32m--> 106\u001b[0m     \u001b[43mtorch\u001b[49m\u001b[38;5;241;43m.\u001b[39;49m\u001b[43mempty\u001b[49m\u001b[43m(\u001b[49m\u001b[43m(\u001b[49m\u001b[43mout_features\u001b[49m\u001b[43m,\u001b[49m\u001b[43m \u001b[49m\u001b[43min_features\u001b[49m\u001b[43m)\u001b[49m\u001b[43m,\u001b[49m\u001b[43m \u001b[49m\u001b[38;5;241;43m*\u001b[39;49m\u001b[38;5;241;43m*\u001b[39;49m\u001b[43mfactory_kwargs\u001b[49m\u001b[43m)\u001b[49m\n\u001b[1;32m    107\u001b[0m )\n\u001b[1;32m    108\u001b[0m \u001b[38;5;28;01mif\u001b[39;00m bias:\n\u001b[1;32m    109\u001b[0m     \u001b[38;5;28mself\u001b[39m\u001b[38;5;241m.\u001b[39mbias \u001b[38;5;241m=\u001b[39m Parameter(torch\u001b[38;5;241m.\u001b[39mempty(out_features, \u001b[38;5;241m*\u001b[39m\u001b[38;5;241m*\u001b[39mfactory_kwargs))\n",
      "\u001b[0;31mTypeError\u001b[0m: empty(): argument 'size' failed to unpack the object at pos 2 with error \"type must be tuple of ints,but got Box\""
     ]
    }
   ],
   "source": [
    "\n",
    "# feature_config = Mlp.config_cls(\n",
    "#     input_dims=d, \n",
    "#     output_dims=hidden_dims, \n",
    "#     hidden_dims=hidden_dims, \n",
    "#     n_layers=3, \n",
    "#     activation=\"silu\",\n",
    "# )\n",
    "\n",
    "actor_config = Mlp.config_cls(\n",
    "    input_dims=d, \n",
    "    output_dims=n_a, \n",
    "    hidden_dims=hidden_dims,\n",
    "    n_layers=1, \n",
    "    activation=\"silu\",\n",
    ")\n",
    "critic_config = Mlp.config_cls(\n",
    "    input_dims=d, \n",
    "    output_dims=1, \n",
    "    hidden_dims=hidden_dims, \n",
    "    n_layers=1, \n",
    "    activation=\"silu\",\n",
    ")\n",
    "ac_config = ActorCritic.config_cls(\n",
    "    clip_epsilon=0.2, \n",
    "    value_coeff=0.5, \n",
    "    entropy_coeff=0.01\n",
    ")\n",
    "\n",
    "model = ActorCritic(\n",
    "    ac_config, \n",
    "    actor_net=Mlp(actor_config), \n",
    "    critic=Mlp(critic_config), \n",
    "    # feature_extractor=Mlp(feature_config)\n",
    "    )\n",
    "\n",
    "\n",
    "# module"
   ]
  },
  {
   "cell_type": "code",
   "execution_count": null,
   "metadata": {},
   "outputs": [],
   "source": [
    "\n",
    "config = RlModule.config_class(lr=3e-4)\n",
    "module = RlModule(actor_critic=model, env=env, config=config)\n",
    "\n",
    "logger = TensorBoardLogger(\"lightning_logs\", name=\"lunar_lander\")\n",
    "trainer = pl.Trainer(max_epochs=100, logger=logger)\n",
    "\n",
    "trainer.fit(module)"
   ]
  },
  {
   "cell_type": "code",
   "execution_count": 4,
   "metadata": {},
   "outputs": [
    {
     "data": {
      "text/plain": [
       "64"
      ]
     },
     "execution_count": 4,
     "metadata": {},
     "output_type": "execute_result"
    }
   ],
   "source": [
    "d"
   ]
  },
  {
   "cell_type": "code",
   "execution_count": null,
   "metadata": {},
   "outputs": [
    {
     "name": "stderr",
     "output_type": "stream",
     "text": [
      "2025-02-09 12:56:25.686 python[93707:3551753] +[IMKClient subclass]: chose IMKClient_Modern\n",
      "2025-02-09 12:56:25.686 python[93707:3551753] +[IMKInputSession subclass]: chose IMKInputSession_Modern\n"
     ]
    }
   ],
   "source": [
    "# Initialise the environment\n",
    "env = gym.make(\"LunarLander-v3\", render_mode=\"human\")\n",
    "\n",
    "# Reset the environment to generate the first observation\n",
    "observation, info = env.reset(seed=42)\n",
    "for _ in range(5000):\n",
    "    # this is where you would insert your policy\n",
    "    action = module.predict(observation)\n",
    "\n",
    "    # step (transition) through the environment with the action\n",
    "    # receiving the next observation, reward and if the episode has terminated or truncated\n",
    "    observation, reward, terminated, truncated, info = env.step(action)\n",
    "\n",
    "    # If the episode has ended then we can reset to start a new episode\n",
    "    if terminated or truncated:\n",
    "        observation, info = env.reset()\n",
    "\n",
    "env.close()"
   ]
  },
  {
   "cell_type": "code",
   "execution_count": 4,
   "metadata": {},
   "outputs": [
    {
     "data": {
      "text/plain": [
       "<thread_the_needle.gridworld.GridWorldEnv at 0x11581c7c0>"
      ]
     },
     "execution_count": 4,
     "metadata": {},
     "output_type": "execute_result"
    }
   ],
   "source": [
    "# !pip install -e ~/Projects/thread_the_needle/\n",
    "import thread_the_needle as ttn\n",
    "ttn.make('thread_the_needle')"
   ]
  },
  {
   "cell_type": "code",
   "execution_count": null,
   "metadata": {},
   "outputs": [],
   "source": []
  },
  {
   "cell_type": "code",
   "execution_count": null,
   "metadata": {},
   "outputs": [],
   "source": []
  }
 ],
 "metadata": {
  "kernelspec": {
   "display_name": "vi_ppo",
   "language": "python",
   "name": "python3"
  },
  "language_info": {
   "codemirror_mode": {
    "name": "ipython",
    "version": 3
   },
   "file_extension": ".py",
   "mimetype": "text/x-python",
   "name": "python",
   "nbconvert_exporter": "python",
   "pygments_lexer": "ipython3",
   "version": "3.10.13"
  }
 },
 "nbformat": 4,
 "nbformat_minor": 2
}
