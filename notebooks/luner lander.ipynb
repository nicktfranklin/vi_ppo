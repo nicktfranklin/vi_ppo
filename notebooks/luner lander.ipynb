{
 "cells": [
  {
   "cell_type": "code",
   "execution_count": 1,
   "metadata": {},
   "outputs": [],
   "source": [
    "%load_ext autoreload\n",
    "%autoreload 2\n",
    "\n",
    "import gymnasium as gym\n",
    "\n",
    "\n",
    "from vi_ppo.actor_critic import ActorCritic\n",
    "from vi_ppo.nets.mlp import Mlp\n",
    "from vi_ppo.modules import GymnasiumModule\n",
    "import lightning as pl\n",
    "from pytorch_lightning.loggers import TensorBoardLogger\n"
   ]
  },
  {
   "cell_type": "code",
   "execution_count": 2,
   "metadata": {},
   "outputs": [
    {
     "name": "stderr",
     "output_type": "stream",
     "text": [
      "GPU available: True (mps), used: True\n",
      "TPU available: False, using: 0 TPU cores\n",
      "HPU available: False, using: 0 HPUs\n",
      "\n",
      "  | Name         | Type        | Params | Mode \n",
      "-----------------------------------------------------\n",
      "0 | actor_critic | ActorCritic | 917    | train\n",
      "-----------------------------------------------------\n",
      "917       Trainable params\n",
      "0         Non-trainable params\n",
      "917       Total params\n",
      "0.004     Total estimated model params size (MB)\n",
      "14        Modules in train mode\n",
      "0         Modules in eval mode\n",
      "/Users/nicholasfranklin/miniconda3/envs/vi_ppo/lib/python3.10/site-packages/lightning/pytorch/trainer/connectors/data_connector.py:425: The 'train_dataloader' does not have many workers which may be a bottleneck. Consider increasing the value of the `num_workers` argument` to `num_workers=7` in the `DataLoader` to improve performance.\n",
      "/Users/nicholasfranklin/miniconda3/envs/vi_ppo/lib/python3.10/site-packages/lightning/pytorch/loops/fit_loop.py:310: The number of training batches (1) is smaller than the logging interval Trainer(log_every_n_steps=50). Set a lower value for log_every_n_steps if you want to see logs for the training epoch.\n"
     ]
    },
    {
     "data": {
      "application/vnd.jupyter.widget-view+json": {
       "model_id": "b6fbf8fcb33e46b39820603b4220410f",
       "version_major": 2,
       "version_minor": 0
      },
      "text/plain": [
       "Training: |          | 0/? [00:00<?, ?it/s]"
      ]
     },
     "metadata": {},
     "output_type": "display_data"
    },
    {
     "name": "stderr",
     "output_type": "stream",
     "text": [
      "`Trainer.fit` stopped: `max_epochs=25` reached.\n"
     ]
    }
   ],
   "source": [
    "# Initialise the environment\n",
    "env = gym.make(\"LunarLander-v3\")\n",
    "\n",
    "# make the actor critic model\n",
    "d = env.observation_space.shape[0]\n",
    "n_a = env.action_space.n\n",
    "hidden_dims = 16\n",
    "\n",
    "# feature_config = Mlp.config_cls(\n",
    "#     input_dims=d, \n",
    "#     output_dims=hidden_dims, \n",
    "#     hidden_dims=hidden_dims, \n",
    "#     n_layers=3, \n",
    "#     activation=\"silu\",\n",
    "# )\n",
    "\n",
    "actor_config = Mlp.config_cls(\n",
    "    input_dims=d, \n",
    "    output_dims=n_a, \n",
    "    hidden_dims=hidden_dims,\n",
    "    n_layers=1, \n",
    "    activation=\"silu\",\n",
    ")\n",
    "critic_config = Mlp.config_cls(\n",
    "    input_dims=d, \n",
    "    output_dims=1, \n",
    "    hidden_dims=hidden_dims, \n",
    "    n_layers=1, \n",
    "    activation=\"silu\",\n",
    ")\n",
    "ac_config = ActorCritic.config_cls(\n",
    "    clip_epsilon=0.2, \n",
    "    value_coeff=0.5, \n",
    "    entropy_coeff=0.01\n",
    ")\n",
    "\n",
    "model = ActorCritic(\n",
    "    ac_config, \n",
    "    actor_net=Mlp(actor_config), \n",
    "    critic=Mlp(critic_config), \n",
    "    # feature_extractor=Mlp(feature_config)\n",
    "    )\n",
    "\n",
    "\n",
    "config = GymnasiumModule.config_class(lr=3e-4)\n",
    "module = GymnasiumModule(actor_critic=model, env=env, config=config)\n",
    "\n",
    "logger = TensorBoardLogger(\"../lightning_logs\", name=\"lunar_lander\")\n",
    "trainer = pl.Trainer(max_epochs=25, logger=logger)\n",
    "\n",
    "trainer.fit(module)\n",
    "# module"
   ]
  },
  {
   "cell_type": "code",
   "execution_count": 3,
   "metadata": {},
   "outputs": [
    {
     "name": "stderr",
     "output_type": "stream",
     "text": [
      "2025-02-09 19:48:21.536 python[6867:3974760] +[IMKClient subclass]: chose IMKClient_Modern\n",
      "2025-02-09 19:48:21.536 python[6867:3974760] +[IMKInputSession subclass]: chose IMKInputSession_Modern\n"
     ]
    }
   ],
   "source": [
    "# Initialise the environment\n",
    "env = gym.make(\"LunarLander-v3\", render_mode=\"human\")\n",
    "\n",
    "# Reset the environment to generate the first observation\n",
    "observation, info = env.reset(seed=42)\n",
    "for _ in range(5000):\n",
    "    # this is where you would insert your policy\n",
    "    action = module.predict(observation)\n",
    "\n",
    "    # step (transition) through the environment with the action\n",
    "    # receiving the next observation, reward and if the episode has terminated or truncated\n",
    "    observation, reward, terminated, truncated, info = env.step(action)\n",
    "\n",
    "    # If the episode has ended then we can reset to start a new episode\n",
    "    if terminated or truncated:\n",
    "        observation, info = env.reset()\n",
    "\n",
    "env.close()"
   ]
  },
  {
   "cell_type": "code",
   "execution_count": 4,
   "metadata": {},
   "outputs": [
    {
     "data": {
      "text/plain": [
       "<thread_the_needle.gridworld.GridWorldEnv at 0x118a8e830>"
      ]
     },
     "execution_count": 4,
     "metadata": {},
     "output_type": "execute_result"
    }
   ],
   "source": [
    "# !pip install -e ~/Projects/thread_the_needle/\n",
    "import thread_the_needle as ttn\n",
    "ttn.make('thread_the_needle')"
   ]
  },
  {
   "cell_type": "code",
   "execution_count": null,
   "metadata": {},
   "outputs": [],
   "source": []
  },
  {
   "cell_type": "code",
   "execution_count": null,
   "metadata": {},
   "outputs": [],
   "source": []
  }
 ],
 "metadata": {
  "kernelspec": {
   "display_name": "vi_ppo",
   "language": "python",
   "name": "python3"
  },
  "language_info": {
   "codemirror_mode": {
    "name": "ipython",
    "version": 3
   },
   "file_extension": ".py",
   "mimetype": "text/x-python",
   "name": "python",
   "nbconvert_exporter": "python",
   "pygments_lexer": "ipython3",
   "version": "3.10.13"
  }
 },
 "nbformat": 4,
 "nbformat_minor": 2
}
