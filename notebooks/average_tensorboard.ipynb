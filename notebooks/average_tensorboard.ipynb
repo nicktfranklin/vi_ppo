{
 "cells": [
  {
   "cell_type": "code",
   "execution_count": null,
   "metadata": {},
   "outputs": [],
   "source": [
    "import os\n",
    "import pandas as pd\n",
    "from tbparse import SummaryReader\n",
    "from pathlib import Path\n",
    "import matplotlib.pyplot as plt\n",
    "import seaborn as sns\n",
    "\n",
    "base_dir = Path().resolve().parent / \"lightning_logs\" / \"thread_the_needle\" / \"ppo\" / \"lr_3e-4\"\n",
    "log_dirs = [str(base_dir / d) for d in os.listdir(base_dir) if os.path.isdir(base_dir / d)]\n",
    "print(f\"Found {len(log_dirs)} tensorboard logs\")\n",
    "\n",
    "scalars = []\n",
    "\n",
    "for log_dir in log_dirs:\n",
    "    reader = SummaryReader(log_dir)\n",
    "    df = reader.scalars\n",
    "    scalars.append(df)\n",
    "df = pd.concat(scalars)\n"
   ]
  },
  {
   "cell_type": "code",
   "execution_count": null,
   "metadata": {},
   "outputs": [],
   "source": [
    "df = pd.concat(scalars)\n",
    "df['step'] = df['step'] * 2048\n",
    "df = df[df['tag'] == 'train/total_reward']\n",
    "sns.lineplot(data=df, x='step', y='value')\n",
    "plt.title('Episode Reward')"
   ]
  },
  {
   "cell_type": "code",
   "execution_count": null,
   "metadata": {},
   "outputs": [],
   "source": [
    "df = pd.concat(scalars)\n",
    "df = df[df['tag'] == 'train/r2_value_model']\n",
    "df['step'] = df['step'] * 2048\n",
    "sns.lineplot(data=df, x='step', y='value')\n",
    "plt.title('Critic Accuracy')\n",
    "plt.ylabel(r'$r^2$')"
   ]
  },
  {
   "cell_type": "code",
   "execution_count": null,
   "metadata": {},
   "outputs": [],
   "source": []
  }
 ],
 "metadata": {
  "kernelspec": {
   "display_name": "vi_ppo",
   "language": "python",
   "name": "python3"
  },
  "language_info": {
   "codemirror_mode": {
    "name": "ipython",
    "version": 3
   },
   "file_extension": ".py",
   "mimetype": "text/x-python",
   "name": "python",
   "nbconvert_exporter": "python",
   "pygments_lexer": "ipython3",
   "version": "3.10.13"
  }
 },
 "nbformat": 4,
 "nbformat_minor": 2
}
