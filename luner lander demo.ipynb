{
 "cells": [
  {
   "cell_type": "code",
   "execution_count": 1,
   "metadata": {},
   "outputs": [],
   "source": [
    "%load_ext autoreload\n",
    "%autoreload 2\n",
    "\n",
    "import gymnasium as gym\n",
    "\n",
    "\n",
    "from src.actor_critic import ActorCritic\n",
    "from src.nets.mlp import Mlp\n",
    "from src.rl_module import RlModule\n",
    "import lightning as pl"
   ]
  },
  {
   "cell_type": "code",
   "execution_count": 2,
   "metadata": {},
   "outputs": [
    {
     "ename": "AttributeError",
     "evalue": "'ActorCriticConfig' object has no attribute 'input_dims'",
     "output_type": "error",
     "traceback": [
      "\u001b[0;31m---------------------------------------------------------------------------\u001b[0m",
      "\u001b[0;31mAttributeError\u001b[0m                            Traceback (most recent call last)",
      "Cell \u001b[0;32mIn[2], line 19\u001b[0m\n\u001b[1;32m     12\u001b[0m critic_config \u001b[38;5;241m=\u001b[39m Mlp\u001b[38;5;241m.\u001b[39mconfig_cls(\n\u001b[1;32m     13\u001b[0m     input_dims\u001b[38;5;241m=\u001b[39md, output_dims\u001b[38;5;241m=\u001b[39m\u001b[38;5;241m1\u001b[39m, hidden_dims\u001b[38;5;241m=\u001b[39mhidden_dims, n_layers\u001b[38;5;241m=\u001b[39m\u001b[38;5;241m1\u001b[39m, activation\u001b[38;5;241m=\u001b[39m\u001b[38;5;124m\"\u001b[39m\u001b[38;5;124msilu\u001b[39m\u001b[38;5;124m\"\u001b[39m\n\u001b[1;32m     14\u001b[0m )\n\u001b[1;32m     15\u001b[0m actor_config \u001b[38;5;241m=\u001b[39m ActorCritic\u001b[38;5;241m.\u001b[39mconfig_cls(\n\u001b[1;32m     16\u001b[0m     clip_epsilon\u001b[38;5;241m=\u001b[39m\u001b[38;5;241m0.2\u001b[39m, value_coeff\u001b[38;5;241m=\u001b[39m\u001b[38;5;241m0.5\u001b[39m, entropy_coeff\u001b[38;5;241m=\u001b[39m\u001b[38;5;241m0.01\u001b[39m\n\u001b[1;32m     17\u001b[0m )\n\u001b[0;32m---> 19\u001b[0m model \u001b[38;5;241m=\u001b[39m ActorCritic(actor_config, actor_net\u001b[38;5;241m=\u001b[39m\u001b[43mMlp\u001b[49m\u001b[43m(\u001b[49m\u001b[43mactor_config\u001b[49m\u001b[43m)\u001b[49m, critic\u001b[38;5;241m=\u001b[39mMlp(critic_config))\n\u001b[1;32m     22\u001b[0m config \u001b[38;5;241m=\u001b[39m RlModule\u001b[38;5;241m.\u001b[39mconfig_class()\n\u001b[1;32m     23\u001b[0m trainer \u001b[38;5;241m=\u001b[39m pl\u001b[38;5;241m.\u001b[39mTrainer(max_epochs\u001b[38;5;241m=\u001b[39m\u001b[38;5;241m25\u001b[39m,)\n",
      "File \u001b[0;32m~/Projects/vi_ppo/src/nets/mlp.py:23\u001b[0m, in \u001b[0;36mMlp.__init__\u001b[0;34m(self, config)\u001b[0m\n\u001b[1;32m     19\u001b[0m \u001b[38;5;28;01mdef\u001b[39;00m \u001b[38;5;21m__init__\u001b[39m(\u001b[38;5;28mself\u001b[39m, config: MlpConfig):\n\u001b[1;32m     20\u001b[0m     \u001b[38;5;28msuper\u001b[39m()\u001b[38;5;241m.\u001b[39m\u001b[38;5;21m__init__\u001b[39m()\n\u001b[1;32m     21\u001b[0m     \u001b[38;5;28mself\u001b[39m\u001b[38;5;241m.\u001b[39minput_projection \u001b[38;5;241m=\u001b[39m (\n\u001b[1;32m     22\u001b[0m         nn\u001b[38;5;241m.\u001b[39mLinear(config\u001b[38;5;241m.\u001b[39minput_dims, config\u001b[38;5;241m.\u001b[39mhidden_dims)\n\u001b[0;32m---> 23\u001b[0m         \u001b[38;5;28;01mif\u001b[39;00m (\u001b[43mconfig\u001b[49m\u001b[38;5;241;43m.\u001b[39;49m\u001b[43minput_dims\u001b[49m \u001b[38;5;241m!=\u001b[39m config\u001b[38;5;241m.\u001b[39mhidden_dims)\n\u001b[1;32m     24\u001b[0m         \u001b[38;5;28;01melse\u001b[39;00m nn\u001b[38;5;241m.\u001b[39mIdentity()\n\u001b[1;32m     25\u001b[0m     )\n\u001b[1;32m     26\u001b[0m     \u001b[38;5;28mself\u001b[39m\u001b[38;5;241m.\u001b[39moutput_projection \u001b[38;5;241m=\u001b[39m (\n\u001b[1;32m     27\u001b[0m         nn\u001b[38;5;241m.\u001b[39mLinear(config\u001b[38;5;241m.\u001b[39mhidden_dims, config\u001b[38;5;241m.\u001b[39moutput_dims)\n\u001b[1;32m     28\u001b[0m         \u001b[38;5;28;01mif\u001b[39;00m (config\u001b[38;5;241m.\u001b[39mhidden_dims \u001b[38;5;241m!=\u001b[39m config\u001b[38;5;241m.\u001b[39moutput_dims)\n\u001b[1;32m     29\u001b[0m         \u001b[38;5;28;01melse\u001b[39;00m nn\u001b[38;5;241m.\u001b[39mIdentity()\n\u001b[1;32m     30\u001b[0m     )\n\u001b[1;32m     32\u001b[0m     \u001b[38;5;28mself\u001b[39m\u001b[38;5;241m.\u001b[39mhidden_layers \u001b[38;5;241m=\u001b[39m nn\u001b[38;5;241m.\u001b[39mModuleList(\n\u001b[1;32m     33\u001b[0m         [\n\u001b[1;32m     34\u001b[0m             nn\u001b[38;5;241m.\u001b[39mLinear(config\u001b[38;5;241m.\u001b[39mhidden_dims, config\u001b[38;5;241m.\u001b[39mhidden_dims)\n\u001b[1;32m     35\u001b[0m             \u001b[38;5;28;01mfor\u001b[39;00m _ \u001b[38;5;129;01min\u001b[39;00m \u001b[38;5;28mrange\u001b[39m(config\u001b[38;5;241m.\u001b[39mn_layers)\n\u001b[1;32m     36\u001b[0m         ]\n\u001b[1;32m     37\u001b[0m     )\n",
      "\u001b[0;31mAttributeError\u001b[0m: 'ActorCriticConfig' object has no attribute 'input_dims'"
     ]
    }
   ],
   "source": [
    "# Initialise the environment\n",
    "env = gym.make(\"LunarLander-v3\")\n",
    "\n",
    "# make the actor critic model\n",
    "d = env.observation_space.shape[0]\n",
    "n_a = env.action_space.n\n",
    "hidden_dims = 64\n",
    "\n",
    "actor_config = Mlp.config_cls(\n",
    "    input_dims=d, output_dims=n_a, hidden_dims=hidden_dims, n_layers=1, activation=\"silu\"\n",
    ")\n",
    "critic_config = Mlp.config_cls(\n",
    "    input_dims=d, output_dims=1, hidden_dims=hidden_dims, n_layers=1, activation=\"silu\"\n",
    ")\n",
    "ac_config = ActorCritic.config_cls(\n",
    "    clip_epsilon=0.2, value_coeff=0.5, entropy_coeff=0.01\n",
    ")\n",
    "\n",
    "model = ActorCritic(ac_config, actor_net=Mlp(actor_config), critic=Mlp(critic_config))\n",
    "\n",
    "\n",
    "config = RlModule.config_class()\n",
    "trainer = pl.Trainer(max_epochs=25,)\n",
    "module = RlModule(actor_critic=model, env=env, config=config)\n",
    "\n",
    "trainer.fit(module)\n",
    "# module"
   ]
  },
  {
   "cell_type": "code",
   "execution_count": null,
   "metadata": {},
   "outputs": [],
   "source": [
    "# Initialise the environment\n",
    "env = gym.make(\"LunarLander-v3\", render_mode=\"human\")\n",
    "\n",
    "# Reset the environment to generate the first observation\n",
    "observation, info = env.reset(seed=42)\n",
    "for _ in range(5000):\n",
    "    # this is where you would insert your policy\n",
    "    action = module.predict(observation)\n",
    "\n",
    "    # step (transition) through the environment with the action\n",
    "    # receiving the next observation, reward and if the episode has terminated or truncated\n",
    "    observation, reward, terminated, truncated, info = env.step(action)\n",
    "\n",
    "    # If the episode has ended then we can reset to start a new episode\n",
    "    if terminated or truncated:\n",
    "        observation, info = env.reset()\n",
    "\n",
    "env.close()"
   ]
  },
  {
   "cell_type": "code",
   "execution_count": null,
   "metadata": {},
   "outputs": [],
   "source": [
    "actor"
   ]
  },
  {
   "cell_type": "code",
   "execution_count": null,
   "metadata": {},
   "outputs": [],
   "source": []
  }
 ],
 "metadata": {
  "kernelspec": {
   "display_name": "state_inference",
   "language": "python",
   "name": "python3"
  },
  "language_info": {
   "codemirror_mode": {
    "name": "ipython",
    "version": 3
   },
   "file_extension": ".py",
   "mimetype": "text/x-python",
   "name": "python",
   "nbconvert_exporter": "python",
   "pygments_lexer": "ipython3",
   "version": "3.10.13"
  }
 },
 "nbformat": 4,
 "nbformat_minor": 2
}
